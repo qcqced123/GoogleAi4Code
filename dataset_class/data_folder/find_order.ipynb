{
 "cells": [
  {
   "cell_type": "code",
   "execution_count": 1,
   "id": "f7f68b66-80c3-40cd-b9a1-675bd867bcd2",
   "metadata": {},
   "outputs": [],
   "source": [
    "import numpy as np\n",
    "import pandas as pd"
   ]
  },
  {
   "cell_type": "code",
   "execution_count": 2,
   "id": "97eea095-3f33-4d99-ab69-35c5fb1100c2",
   "metadata": {},
   "outputs": [
    {
     "data": {
      "text/html": [
       "<div>\n",
       "<style scoped>\n",
       "    .dataframe tbody tr th:only-of-type {\n",
       "        vertical-align: middle;\n",
       "    }\n",
       "\n",
       "    .dataframe tbody tr th {\n",
       "        vertical-align: top;\n",
       "    }\n",
       "\n",
       "    .dataframe thead th {\n",
       "        text-align: right;\n",
       "    }\n",
       "</style>\n",
       "<table border=\"1\" class=\"dataframe\">\n",
       "  <thead>\n",
       "    <tr style=\"text-align: right;\">\n",
       "      <th></th>\n",
       "      <th>id</th>\n",
       "      <th>cell_order</th>\n",
       "    </tr>\n",
       "  </thead>\n",
       "  <tbody>\n",
       "    <tr>\n",
       "      <th>0</th>\n",
       "      <td>00001756c60be8</td>\n",
       "      <td>1862f0a6 448eb224 2a9e43d6 7e2f170a 038b763d 7...</td>\n",
       "    </tr>\n",
       "    <tr>\n",
       "      <th>1</th>\n",
       "      <td>00015c83e2717b</td>\n",
       "      <td>2e94bd7a 3e99dee9 b5e286ea da4f7550 c417225b 5...</td>\n",
       "    </tr>\n",
       "    <tr>\n",
       "      <th>2</th>\n",
       "      <td>0001bdd4021779</td>\n",
       "      <td>3fdc37be 073782ca 8ea7263c 80543cd8 38310c80 0...</td>\n",
       "    </tr>\n",
       "    <tr>\n",
       "      <th>3</th>\n",
       "      <td>0001daf4c2c76d</td>\n",
       "      <td>97266564 a898e555 86605076 76cc2642 ef279279 d...</td>\n",
       "    </tr>\n",
       "    <tr>\n",
       "      <th>4</th>\n",
       "      <td>0002115f48f982</td>\n",
       "      <td>9ec225f0 18281c6c e3b6b115 4a044c54 365fe576 a...</td>\n",
       "    </tr>\n",
       "    <tr>\n",
       "      <th>...</th>\n",
       "      <td>...</td>\n",
       "      <td>...</td>\n",
       "    </tr>\n",
       "    <tr>\n",
       "      <th>139251</th>\n",
       "      <td>fffc30d5a0bc46</td>\n",
       "      <td>09727c0c ff1ea6a0 ddfef603 a01ce9b3 3ba953ee b...</td>\n",
       "    </tr>\n",
       "    <tr>\n",
       "      <th>139252</th>\n",
       "      <td>fffc3b44869198</td>\n",
       "      <td>978a5137 faa48f03 28dfb12a eea2e812 64fef97c 4...</td>\n",
       "    </tr>\n",
       "    <tr>\n",
       "      <th>139253</th>\n",
       "      <td>fffc63ff750064</td>\n",
       "      <td>5015c300 411b85d9 8238198c f4781d1d b5532930 e...</td>\n",
       "    </tr>\n",
       "    <tr>\n",
       "      <th>139254</th>\n",
       "      <td>fffcd063cda949</td>\n",
       "      <td>7e6266ad d8281fc5 d4ffcaef 3e0e4a47 21387fc8 c...</td>\n",
       "    </tr>\n",
       "    <tr>\n",
       "      <th>139255</th>\n",
       "      <td>fffe1d764579d5</td>\n",
       "      <td>1a63248d 9c3b96a5 1398a873 4e2d4c2d f71c538e 8...</td>\n",
       "    </tr>\n",
       "  </tbody>\n",
       "</table>\n",
       "<p>139256 rows × 2 columns</p>\n",
       "</div>"
      ],
      "text/plain": [
       "                    id                                         cell_order\n",
       "0       00001756c60be8  1862f0a6 448eb224 2a9e43d6 7e2f170a 038b763d 7...\n",
       "1       00015c83e2717b  2e94bd7a 3e99dee9 b5e286ea da4f7550 c417225b 5...\n",
       "2       0001bdd4021779  3fdc37be 073782ca 8ea7263c 80543cd8 38310c80 0...\n",
       "3       0001daf4c2c76d  97266564 a898e555 86605076 76cc2642 ef279279 d...\n",
       "4       0002115f48f982  9ec225f0 18281c6c e3b6b115 4a044c54 365fe576 a...\n",
       "...                ...                                                ...\n",
       "139251  fffc30d5a0bc46  09727c0c ff1ea6a0 ddfef603 a01ce9b3 3ba953ee b...\n",
       "139252  fffc3b44869198  978a5137 faa48f03 28dfb12a eea2e812 64fef97c 4...\n",
       "139253  fffc63ff750064  5015c300 411b85d9 8238198c f4781d1d b5532930 e...\n",
       "139254  fffcd063cda949  7e6266ad d8281fc5 d4ffcaef 3e0e4a47 21387fc8 c...\n",
       "139255  fffe1d764579d5  1a63248d 9c3b96a5 1398a873 4e2d4c2d f71c538e 8...\n",
       "\n",
       "[139256 rows x 2 columns]"
      ]
     },
     "execution_count": 2,
     "metadata": {},
     "output_type": "execute_result"
    }
   ],
   "source": [
    "rank_df = pd.read_csv(\n",
    "    'train_orders.csv',\n",
    "    keep_default_na=False\n",
    ")\n",
    "rank_df"
   ]
  },
  {
   "cell_type": "code",
   "execution_count": 20,
   "id": "41fe50bc-3fb6-4921-aad4-9ba7d549d7be",
   "metadata": {},
   "outputs": [
    {
     "data": {
      "text/plain": [
       "['a4ed04de',\n",
       " '5cf0a405',\n",
       " '7bb81974',\n",
       " 'f6d4306a',\n",
       " 'ef7f80ec',\n",
       " '59c07afe',\n",
       " '428d5123',\n",
       " 'f160c374',\n",
       " '0bbcf34c',\n",
       " '851a6b89',\n",
       " '52be0618',\n",
       " '557d2c8e',\n",
       " 'd8080650',\n",
       " 'cd64fb2c',\n",
       " '2340916f',\n",
       " '388aa74e',\n",
       " '1cf05147',\n",
       " '1eda6e5c',\n",
       " '5c4a51de',\n",
       " 'f1884fb9',\n",
       " 'cb8cbe2a',\n",
       " 'aeacfdc0',\n",
       " 'bb72d535',\n",
       " '1d367fda',\n",
       " '5355ffbf',\n",
       " 'e4d02889',\n",
       " 'aed8221c',\n",
       " 'c0a2afd7',\n",
       " '705a1307',\n",
       " '056c518b',\n",
       " '9d5804b3',\n",
       " '3267e6f9',\n",
       " '37387d6d',\n",
       " '727ab48c',\n",
       " '2d4dbd81',\n",
       " '50761f2c',\n",
       " '0bd3eaab',\n",
       " '947fc0af',\n",
       " '81a4de5e',\n",
       " 'e284362b',\n",
       " '45a24640',\n",
       " 'be78c6b0',\n",
       " 'fa6d2e02',\n",
       " '0b5c54f0',\n",
       " '332278d1',\n",
       " '61b4d9ec',\n",
       " '550a69b2',\n",
       " '627502ce',\n",
       " 'd2e5eefe',\n",
       " 'bbd68641',\n",
       " '9fb3a53c',\n",
       " 'a40b383b',\n",
       " '09e68ccb',\n",
       " 'e0e869c4',\n",
       " '497ad79c',\n",
       " '5177fa74',\n",
       " 'e92cd6d3',\n",
       " '4dc1617e',\n",
       " '7c532a61',\n",
       " '039c6f9a',\n",
       " 'aea34faf',\n",
       " 'd5d84f29',\n",
       " 'a2b94830',\n",
       " '07e873b4',\n",
       " '25e55844',\n",
       " 'd24c638f',\n",
       " '46c6067b',\n",
       " '94dd2523',\n",
       " 'ffce5569',\n",
       " '284fc4db',\n",
       " '5a3f298d',\n",
       " '16a1bcfa',\n",
       " '621d7514',\n",
       " '1014324f',\n",
       " '442d543f',\n",
       " '8ceafbef',\n",
       " 'e701eee8',\n",
       " 'ec27695a',\n",
       " '2e958c8f',\n",
       " '9decaada',\n",
       " '3f8c54d8']"
      ]
     },
     "execution_count": 20,
     "metadata": {},
     "output_type": "execute_result"
    }
   ],
   "source": [
    "order_list = ' '.join(rank_df[rank_df['id'] == 'facb4391b54523'].cell_order).split(' ')\n",
    "order_list"
   ]
  },
  {
   "cell_type": "code",
   "execution_count": 21,
   "id": "0cc9c382-2306-4cf5-9242-dcbe8b15f1f0",
   "metadata": {},
   "outputs": [
    {
     "data": {
      "text/plain": [
       "46"
      ]
     },
     "execution_count": 21,
     "metadata": {},
     "output_type": "execute_result"
    }
   ],
   "source": [
    "order_list.index('550a69b2')"
   ]
  },
  {
   "cell_type": "code",
   "execution_count": null,
   "id": "d8b5a182-790e-4126-a9a6-5b06f7d7f6d8",
   "metadata": {},
   "outputs": [],
   "source": []
  }
 ],
 "metadata": {
  "kernelspec": {
   "display_name": "Python 3 (ipykernel)",
   "language": "python",
   "name": "python3"
  },
  "language_info": {
   "codemirror_mode": {
    "name": "ipython",
    "version": 3
   },
   "file_extension": ".py",
   "mimetype": "text/x-python",
   "name": "python",
   "nbconvert_exporter": "python",
   "pygments_lexer": "ipython3",
   "version": "3.9.4"
  }
 },
 "nbformat": 4,
 "nbformat_minor": 5
}
