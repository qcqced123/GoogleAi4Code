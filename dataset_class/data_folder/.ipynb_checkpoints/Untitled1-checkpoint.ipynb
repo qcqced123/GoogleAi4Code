{
 "cells": [
  {
   "cell_type": "code",
   "execution_count": 1,
   "id": "28bf8c29-99db-4e94-88ab-62d75c56f242",
   "metadata": {},
   "outputs": [],
   "source": [
    "import pandas as pd\n",
    "import numpy as np "
   ]
  },
  {
   "cell_type": "code",
   "execution_count": 2,
   "id": "f3b932db-7039-48ad-b8ec-08b5ad03494b",
   "metadata": {},
   "outputs": [
    {
     "data": {
      "text/html": [
       "<div>\n",
       "<style scoped>\n",
       "    .dataframe tbody tr th:only-of-type {\n",
       "        vertical-align: middle;\n",
       "    }\n",
       "\n",
       "    .dataframe tbody tr th {\n",
       "        vertical-align: top;\n",
       "    }\n",
       "\n",
       "    .dataframe thead th {\n",
       "        text-align: right;\n",
       "    }\n",
       "</style>\n",
       "<table border=\"1\" class=\"dataframe\">\n",
       "  <thead>\n",
       "    <tr style=\"text-align: right;\">\n",
       "      <th></th>\n",
       "      <th>id</th>\n",
       "      <th>cell_id</th>\n",
       "      <th>cell_type</th>\n",
       "      <th>source</th>\n",
       "    </tr>\n",
       "  </thead>\n",
       "  <tbody>\n",
       "    <tr>\n",
       "      <th>0</th>\n",
       "      <td>8a2564b730a575</td>\n",
       "      <td>8395ab7c</td>\n",
       "      <td>code</td>\n",
       "      <td>import numpy as np\\nimport matplotlib.pyplot a...</td>\n",
       "    </tr>\n",
       "    <tr>\n",
       "      <th>1</th>\n",
       "      <td>8a2564b730a575</td>\n",
       "      <td>ebc844d6</td>\n",
       "      <td>code</td>\n",
       "      <td>df_train = pd.read_csv('../input/tensorflow-gr...</td>\n",
       "    </tr>\n",
       "    <tr>\n",
       "      <th>2</th>\n",
       "      <td>8a2564b730a575</td>\n",
       "      <td>49251f17</td>\n",
       "      <td>code</td>\n",
       "      <td>def bbox_inv_iou(boxA, boxB):\\n    \"\"\"Copied f...</td>\n",
       "    </tr>\n",
       "    <tr>\n",
       "      <th>3</th>\n",
       "      <td>8a2564b730a575</td>\n",
       "      <td>3a6623e3</td>\n",
       "      <td>code</td>\n",
       "      <td>test_sequence_id = np.unique(df_train.sequence...</td>\n",
       "    </tr>\n",
       "    <tr>\n",
       "      <th>4</th>\n",
       "      <td>8a2564b730a575</td>\n",
       "      <td>24e09d1a</td>\n",
       "      <td>code</td>\n",
       "      <td>seq_df_with_cots_ids, stats = find_unique_cots...</td>\n",
       "    </tr>\n",
       "    <tr>\n",
       "      <th>...</th>\n",
       "      <td>...</td>\n",
       "      <td>...</td>\n",
       "      <td>...</td>\n",
       "      <td>...</td>\n",
       "    </tr>\n",
       "    <tr>\n",
       "      <th>6370641</th>\n",
       "      <td>a3faba2871daaa</td>\n",
       "      <td>5ce07f7e</td>\n",
       "      <td>markdown</td>\n",
       "      <td>Lets check a random image and its label</td>\n",
       "    </tr>\n",
       "    <tr>\n",
       "      <th>6370642</th>\n",
       "      <td>a3faba2871daaa</td>\n",
       "      <td>ad67d1e9</td>\n",
       "      <td>markdown</td>\n",
       "      <td>We can see that there are 5 directories of 5 d...</td>\n",
       "    </tr>\n",
       "    <tr>\n",
       "      <th>6370643</th>\n",
       "      <td>a3faba2871daaa</td>\n",
       "      <td>c24be090</td>\n",
       "      <td>markdown</td>\n",
       "      <td>## Also print Misclassified Images:</td>\n",
       "    </tr>\n",
       "    <tr>\n",
       "      <th>6370644</th>\n",
       "      <td>a3faba2871daaa</td>\n",
       "      <td>df63943f</td>\n",
       "      <td>markdown</td>\n",
       "      <td>**Normalization**</td>\n",
       "    </tr>\n",
       "    <tr>\n",
       "      <th>6370645</th>\n",
       "      <td>a3faba2871daaa</td>\n",
       "      <td>ee0d89df</td>\n",
       "      <td>markdown</td>\n",
       "      <td>## Visualizing Predictons on the Validation Set</td>\n",
       "    </tr>\n",
       "  </tbody>\n",
       "</table>\n",
       "<p>6370646 rows × 4 columns</p>\n",
       "</div>"
      ],
      "text/plain": [
       "                     id   cell_id cell_type  \\\n",
       "0        8a2564b730a575  8395ab7c      code   \n",
       "1        8a2564b730a575  ebc844d6      code   \n",
       "2        8a2564b730a575  49251f17      code   \n",
       "3        8a2564b730a575  3a6623e3      code   \n",
       "4        8a2564b730a575  24e09d1a      code   \n",
       "...                 ...       ...       ...   \n",
       "6370641  a3faba2871daaa  5ce07f7e  markdown   \n",
       "6370642  a3faba2871daaa  ad67d1e9  markdown   \n",
       "6370643  a3faba2871daaa  c24be090  markdown   \n",
       "6370644  a3faba2871daaa  df63943f  markdown   \n",
       "6370645  a3faba2871daaa  ee0d89df  markdown   \n",
       "\n",
       "                                                    source  \n",
       "0        import numpy as np\\nimport matplotlib.pyplot a...  \n",
       "1        df_train = pd.read_csv('../input/tensorflow-gr...  \n",
       "2        def bbox_inv_iou(boxA, boxB):\\n    \"\"\"Copied f...  \n",
       "3        test_sequence_id = np.unique(df_train.sequence...  \n",
       "4        seq_df_with_cots_ids, stats = find_unique_cots...  \n",
       "...                                                    ...  \n",
       "6370641            Lets check a random image and its label  \n",
       "6370642  We can see that there are 5 directories of 5 d...  \n",
       "6370643                ## Also print Misclassified Images:  \n",
       "6370644                                  **Normalization**  \n",
       "6370645    ## Visualizing Predictons on the Validation Set  \n",
       "\n",
       "[6370646 rows x 4 columns]"
      ]
     },
     "execution_count": 2,
     "metadata": {},
     "output_type": "execute_result"
    }
   ],
   "source": [
    "df = pd.read_csv('train.csv')\n",
    "df"
   ]
  },
  {
   "cell_type": "code",
   "execution_count": 6,
   "id": "2fe2e680-8927-4cce-b5f4-c63a017e21e2",
   "metadata": {},
   "outputs": [
    {
     "name": "stderr",
     "output_type": "stream",
     "text": [
      "/var/folders/l1/l_9fgbw95hl79rj750047d1c0000gn/T/ipykernel_4463/3424416598.py:1: FutureWarning: The squeeze argument has been deprecated and will be removed in a future version. Append .squeeze(\"columns\") to the call to squeeze.\n",
      "\n",
      "\n",
      "  label_df = pd.read_csv(\n"
     ]
    },
    {
     "data": {
      "text/plain": [
       "0          1862f0a6\n",
       "1          448eb224\n",
       "2          2a9e43d6\n",
       "3          7e2f170a\n",
       "4          038b763d\n",
       "             ...   \n",
       "6370641    5369934b\n",
       "6370642    ac9db030\n",
       "6370643    a8ffc8b4\n",
       "6370644    70455170\n",
       "6370645    380852e6\n",
       "Name: cell_order, Length: 6370646, dtype: object"
      ]
     },
     "execution_count": 6,
     "metadata": {},
     "output_type": "execute_result"
    }
   ],
   "source": [
    "label_df = pd.read_csv(\n",
    "    'train_orders.csv',\n",
    "    index_col='id',\n",
    "    squeeze=True,\n",
    ").str.split()\n",
    "label_df.explode('cell_order')  # explode 시키면 모양이 똑같음"
   ]
  },
  {
   "cell_type": "code",
   "execution_count": null,
   "id": "142d514e-0f73-4678-ab31-376e0beb6b1c",
   "metadata": {},
   "outputs": [],
   "source": []
  }
 ],
 "metadata": {
  "kernelspec": {
   "display_name": "Python 3 (ipykernel)",
   "language": "python",
   "name": "python3"
  },
  "language_info": {
   "codemirror_mode": {
    "name": "ipython",
    "version": 3
   },
   "file_extension": ".py",
   "mimetype": "text/x-python",
   "name": "python",
   "nbconvert_exporter": "python",
   "pygments_lexer": "ipython3",
   "version": "3.9.4"
  }
 },
 "nbformat": 4,
 "nbformat_minor": 5
}
