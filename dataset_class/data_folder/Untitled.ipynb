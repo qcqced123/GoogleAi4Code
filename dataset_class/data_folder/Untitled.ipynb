{
 "cells": [
  {
   "cell_type": "code",
   "execution_count": 7,
   "id": "9f18e122-a047-4199-b172-b3da137ceaf7",
   "metadata": {},
   "outputs": [],
   "source": [
    "import torch, math"
   ]
  },
  {
   "cell_type": "code",
   "execution_count": 6,
   "id": "e59b6dce-cb65-4833-aef7-9e3851a9f8c2",
   "metadata": {},
   "outputs": [
    {
     "data": {
      "text/plain": [
       "tensor([[ 5.4772],\n",
       "        [13.1909]])"
      ]
     },
     "execution_count": 6,
     "metadata": {},
     "output_type": "execute_result"
    }
   ],
   "source": [
    "test = torch.tensor([[1.0,2.0,3.0,4.0],\n",
    "                    [5.0,6.0,7.0,8.0]])\n",
    "test.norm(dim=1, keepdim=True)"
   ]
  },
  {
   "cell_type": "code",
   "execution_count": 9,
   "id": "9cca08b7-f755-44c6-81a0-0da4b365bf6f",
   "metadata": {},
   "outputs": [
    {
     "data": {
      "text/plain": [
       "10.954451150103322"
      ]
     },
     "execution_count": 9,
     "metadata": {},
     "output_type": "execute_result"
    }
   ],
   "source": [
    "math.sqrt(1**2 + 2**2 + 3**2 + 4**2)"
   ]
  },
  {
   "cell_type": "code",
   "execution_count": 11,
   "id": "55366cc8-b1bc-4696-b077-d0298a222d3f",
   "metadata": {},
   "outputs": [
    {
     "data": {
      "text/plain": [
       "tensor([[0.3651, 0.7303, 1.0954, 1.4606],\n",
       "        [0.7581, 0.9097, 1.0613, 1.2130]])"
      ]
     },
     "execution_count": 11,
     "metadata": {},
     "output_type": "execute_result"
    }
   ],
   "source": [
    "test / test.norm(dim=1, keepdim=True) * 2"
   ]
  },
  {
   "cell_type": "code",
   "execution_count": null,
   "id": "442f5c35-e4b6-41f6-a91f-ccf7c6bb31f0",
   "metadata": {},
   "outputs": [],
   "source": []
  }
 ],
 "metadata": {
  "kernelspec": {
   "display_name": "Python 3 (ipykernel)",
   "language": "python",
   "name": "python3"
  },
  "language_info": {
   "codemirror_mode": {
    "name": "ipython",
    "version": 3
   },
   "file_extension": ".py",
   "mimetype": "text/x-python",
   "name": "python",
   "nbconvert_exporter": "python",
   "pygments_lexer": "ipython3",
   "version": "3.9.4"
  }
 },
 "nbformat": 4,
 "nbformat_minor": 5
}
